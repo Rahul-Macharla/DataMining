{
 "cells": [
  {
   "cell_type": "code",
   "execution_count": 1,
   "metadata": {},
   "outputs": [],
   "source": [
    "import pandas as pd\n",
    "import numpy as np\n",
    "import bs4 as beautifulSoup\n",
    "import matplotlib.pyplot as plt\n",
    "import seaborn as sns\n",
    "%matplotlib inline"
   ]
  },
  {
   "cell_type": "code",
   "execution_count": 2,
   "metadata": {},
   "outputs": [
    {
     "data": {
      "text/html": [
       "<div>\n",
       "<style scoped>\n",
       "    .dataframe tbody tr th:only-of-type {\n",
       "        vertical-align: middle;\n",
       "    }\n",
       "\n",
       "    .dataframe tbody tr th {\n",
       "        vertical-align: top;\n",
       "    }\n",
       "\n",
       "    .dataframe thead th {\n",
       "        text-align: right;\n",
       "    }\n",
       "</style>\n",
       "<table border=\"1\" class=\"dataframe\">\n",
       "  <thead>\n",
       "    <tr style=\"text-align: right;\">\n",
       "      <th></th>\n",
       "      <th>Name</th>\n",
       "      <th>Colour</th>\n",
       "      <th>Gender</th>\n",
       "      <th>Brand</th>\n",
       "      <th>Price</th>\n",
       "      <th>Offer</th>\n",
       "      <th>Ratings</th>\n",
       "      <th>No of Ratings</th>\n",
       "      <th>No of Reviews</th>\n",
       "    </tr>\n",
       "  </thead>\n",
       "  <tbody>\n",
       "    <tr>\n",
       "      <td>0</td>\n",
       "      <td>CRYSTA Running Shoes</td>\n",
       "      <td>Blue</td>\n",
       "      <td>Men</td>\n",
       "      <td>Campus</td>\n",
       "      <td>786</td>\n",
       "      <td>25.0</td>\n",
       "      <td>4.1</td>\n",
       "      <td>6590.0</td>\n",
       "      <td>1000.0</td>\n",
       "    </tr>\n",
       "    <tr>\n",
       "      <td>1</td>\n",
       "      <td>Troy MU IDP Walking Shoes</td>\n",
       "      <td>Grey</td>\n",
       "      <td>Men</td>\n",
       "      <td>Puma</td>\n",
       "      <td>1399</td>\n",
       "      <td>65.0</td>\n",
       "      <td>3.9</td>\n",
       "      <td>414.0</td>\n",
       "      <td>71.0</td>\n",
       "    </tr>\n",
       "    <tr>\n",
       "      <td>2</td>\n",
       "      <td>Running Shoes</td>\n",
       "      <td>Black</td>\n",
       "      <td>Men</td>\n",
       "      <td>Puma</td>\n",
       "      <td>1399</td>\n",
       "      <td>65.0</td>\n",
       "      <td>4.2</td>\n",
       "      <td>27.0</td>\n",
       "      <td>4.0</td>\n",
       "    </tr>\n",
       "    <tr>\n",
       "      <td>3</td>\n",
       "      <td>Gorunfocus Athos Walking Shoes</td>\n",
       "      <td>Grey, Orange</td>\n",
       "      <td>Men</td>\n",
       "      <td>Skechers</td>\n",
       "      <td>2879</td>\n",
       "      <td>40.0</td>\n",
       "      <td>4.4</td>\n",
       "      <td>147.0</td>\n",
       "      <td>17.0</td>\n",
       "    </tr>\n",
       "    <tr>\n",
       "      <td>4</td>\n",
       "      <td>Propel 3D MU IDP Running Shoes</td>\n",
       "      <td>Blue</td>\n",
       "      <td>Men</td>\n",
       "      <td>Puma</td>\n",
       "      <td>1399</td>\n",
       "      <td>65.0</td>\n",
       "      <td>4.2</td>\n",
       "      <td>381.0</td>\n",
       "      <td>62.0</td>\n",
       "    </tr>\n",
       "    <tr>\n",
       "      <td>...</td>\n",
       "      <td>...</td>\n",
       "      <td>...</td>\n",
       "      <td>...</td>\n",
       "      <td>...</td>\n",
       "      <td>...</td>\n",
       "      <td>...</td>\n",
       "      <td>...</td>\n",
       "      <td>...</td>\n",
       "      <td>...</td>\n",
       "    </tr>\n",
       "    <tr>\n",
       "      <td>606</td>\n",
       "      <td>Sneakers</td>\n",
       "      <td>White</td>\n",
       "      <td>Men</td>\n",
       "      <td>Numenzo</td>\n",
       "      <td>428</td>\n",
       "      <td>57.0</td>\n",
       "      <td>4.1</td>\n",
       "      <td>27.0</td>\n",
       "      <td>2.0</td>\n",
       "    </tr>\n",
       "    <tr>\n",
       "      <td>607</td>\n",
       "      <td>Casuals</td>\n",
       "      <td>Blue</td>\n",
       "      <td>Men</td>\n",
       "      <td>Woodland</td>\n",
       "      <td>3388</td>\n",
       "      <td>15.0</td>\n",
       "      <td>4.1</td>\n",
       "      <td>6061.0</td>\n",
       "      <td>895.0</td>\n",
       "    </tr>\n",
       "    <tr>\n",
       "      <td>608</td>\n",
       "      <td>Casual</td>\n",
       "      <td>Brown</td>\n",
       "      <td>Men</td>\n",
       "      <td>Woodland</td>\n",
       "      <td>2725</td>\n",
       "      <td>24.0</td>\n",
       "      <td>4.1</td>\n",
       "      <td>111.0</td>\n",
       "      <td>22.0</td>\n",
       "    </tr>\n",
       "    <tr>\n",
       "      <td>609</td>\n",
       "      <td>Running Shoes</td>\n",
       "      <td>Green</td>\n",
       "      <td>Men</td>\n",
       "      <td>Camfoot</td>\n",
       "      <td>299</td>\n",
       "      <td>70.0</td>\n",
       "      <td>3.9</td>\n",
       "      <td>52.0</td>\n",
       "      <td>9.0</td>\n",
       "    </tr>\n",
       "    <tr>\n",
       "      <td>610</td>\n",
       "      <td>Easywalk-08 Running shoes for boys |sports sho...</td>\n",
       "      <td>Maroon, Maroon</td>\n",
       "      <td>Men</td>\n",
       "      <td>Asian</td>\n",
       "      <td>759</td>\n",
       "      <td>24.0</td>\n",
       "      <td>4.0</td>\n",
       "      <td>2225.0</td>\n",
       "      <td>351.0</td>\n",
       "    </tr>\n",
       "  </tbody>\n",
       "</table>\n",
       "<p>611 rows × 9 columns</p>\n",
       "</div>"
      ],
      "text/plain": [
       "                                                  Name          Colour Gender  \\\n",
       "0                                CRYSTA Running Shoes             Blue    Men   \n",
       "1                           Troy MU IDP Walking Shoes             Grey    Men   \n",
       "2                                       Running Shoes            Black    Men   \n",
       "3                      Gorunfocus Athos Walking Shoes     Grey, Orange    Men   \n",
       "4                      Propel 3D MU IDP Running Shoes             Blue    Men   \n",
       "..                                                 ...             ...    ...   \n",
       "606                                          Sneakers            White    Men   \n",
       "607                                           Casuals             Blue    Men   \n",
       "608                                            Casual            Brown    Men   \n",
       "609                                     Running Shoes            Green    Men   \n",
       "610  Easywalk-08 Running shoes for boys |sports sho...  Maroon, Maroon    Men   \n",
       "\n",
       "        Brand  Price  Offer  Ratings  No of Ratings  No of Reviews  \n",
       "0      Campus    786   25.0      4.1         6590.0         1000.0  \n",
       "1        Puma   1399   65.0      3.9          414.0           71.0  \n",
       "2        Puma   1399   65.0      4.2           27.0            4.0  \n",
       "3    Skechers   2879   40.0      4.4          147.0           17.0  \n",
       "4        Puma   1399   65.0      4.2          381.0           62.0  \n",
       "..        ...    ...    ...      ...            ...            ...  \n",
       "606   Numenzo    428   57.0      4.1           27.0            2.0  \n",
       "607  Woodland   3388   15.0      4.1         6061.0          895.0  \n",
       "608  Woodland   2725   24.0      4.1          111.0           22.0  \n",
       "609   Camfoot    299   70.0      3.9           52.0            9.0  \n",
       "610     Asian    759   24.0      4.0         2225.0          351.0  \n",
       "\n",
       "[611 rows x 9 columns]"
      ]
     },
     "execution_count": 2,
     "metadata": {},
     "output_type": "execute_result"
    }
   ],
   "source": [
    "df=pd.read_csv('dataploting.csv',names=('Name,Colour,Gender,Brand,Price,Offer,Ratings,No of Ratings,No of Reviews').split(','))\n",
    "df"
   ]
  },
  {
   "cell_type": "markdown",
   "metadata": {},
   "source": [
    "# As there are too many Brands we are currently limiting to 10 Brands."
   ]
  },
  {
   "cell_type": "code",
   "execution_count": 3,
   "metadata": {},
   "outputs": [],
   "source": [
    "df['Gender']=df['Gender'].str.replace(\"mal\",\"Men\")"
   ]
  },
  {
   "cell_type": "code",
   "execution_count": 4,
   "metadata": {},
   "outputs": [
    {
     "data": {
      "text/plain": [
       "Puma                           119\n",
       "Sparx                           32\n",
       "Asian                           31\n",
       "Shoefly                         27\n",
       "MILESWALKER                     26\n",
       "                              ... \n",
       "Abisto                           1\n",
       "Absolute, comfort                1\n",
       "obot                             1\n",
       "Bond, Street, By, Red, Tape      1\n",
       "Gerief                           1\n",
       "Name: Brand, Length: 138, dtype: int64"
      ]
     },
     "execution_count": 4,
     "metadata": {},
     "output_type": "execute_result"
    }
   ],
   "source": [
    "pd.value_counts(df['Brand'])"
   ]
  },
  {
   "cell_type": "code",
   "execution_count": 5,
   "metadata": {},
   "outputs": [],
   "source": [
    "from collections import Counter"
   ]
  },
  {
   "cell_type": "code",
   "execution_count": 6,
   "metadata": {},
   "outputs": [
    {
     "data": {
      "text/plain": [
       "Counter({'Campus': 15,\n",
       "         'Puma': 119,\n",
       "         'Skechers': 25,\n",
       "         'REEBOK': 3,\n",
       "         'Fila': 9,\n",
       "         'MILESWALKER': 26,\n",
       "         'World, Wear, Footwear': 4,\n",
       "         'Kzaara': 3,\n",
       "         'Chevit': 7,\n",
       "         'Shoefly': 27,\n",
       "         'Hotstyle': 2,\n",
       "         'Aadi': 12,\n",
       "         'Asian': 31,\n",
       "         'Dunkaston': 1,\n",
       "         'Earton': 1,\n",
       "         'Axter': 25,\n",
       "         'AROOM': 1,\n",
       "         'Inklenzo': 3,\n",
       "         'Yonex': 9,\n",
       "         'Sparx': 32,\n",
       "         'Kraasa': 11,\n",
       "         'BOLTAGO': 1,\n",
       "         'LAYASA': 1,\n",
       "         'layasa': 5,\n",
       "         'Clymb': 5,\n",
       "         'TIGONIS': 2,\n",
       "         'Armado': 7,\n",
       "         'RUFFBIRD': 1,\n",
       "         'Sukun': 2,\n",
       "         'URBANBOX': 1,\n",
       "         'Nobelite': 4,\n",
       "         'Mactree': 3,\n",
       "         'Lee, Won': 2,\n",
       "         'Red, Tape': 16,\n",
       "         'Asics': 5,\n",
       "         'Mr, SHOES': 2,\n",
       "         'Beerock': 3,\n",
       "         'WELDONE': 1,\n",
       "         'ASF, Shoe': 1,\n",
       "         'Camfoot': 2,\n",
       "         'ASTEROID': 1,\n",
       "         'Sporter': 3,\n",
       "         'Nivia': 4,\n",
       "         'Para, Trooper': 4,\n",
       "         'Abisto': 1,\n",
       "         'Freacksters': 1,\n",
       "         'JIANSH': 1,\n",
       "         'BRUTON': 3,\n",
       "         'Woati': 1,\n",
       "         'Bersache': 2,\n",
       "         'bluemaker': 1,\n",
       "         'Provogue': 3,\n",
       "         'Essence': 2,\n",
       "         'XYLUS': 2,\n",
       "         'Adza': 1,\n",
       "         'Numenzo': 2,\n",
       "         'Bata': 4,\n",
       "         'obot': 1,\n",
       "         'DOLLER': 2,\n",
       "         'Stinson': 2,\n",
       "         'Claptrap': 2,\n",
       "         'Fabbmate': 4,\n",
       "         'SEGA': 4,\n",
       "         'Lotto': 6,\n",
       "         'Shoes, Kingdom': 3,\n",
       "         'ADIDAS': 15,\n",
       "         'TR': 3,\n",
       "         'Density': 6,\n",
       "         'RINDAS': 1,\n",
       "         'M7, By, Metronaut': 3,\n",
       "         'ADISO': 1,\n",
       "         'Birde': 1,\n",
       "         'MGZ': 2,\n",
       "         'shoes, for, men': 1,\n",
       "         'Bond, Street, By, Red, Tape': 1,\n",
       "         'Nike': 11,\n",
       "         'Gusto': 1,\n",
       "         'Ktiz': 1,\n",
       "         'Denvr': 2,\n",
       "         'Marabous': 1,\n",
       "         'Franco, Leone': 1,\n",
       "         'Tryviz': 1,\n",
       "         'ESSENCE': 1,\n",
       "         'Toshina, shoes, king': 1,\n",
       "         'Flickfinger': 1,\n",
       "         'HRV, SPORTS': 1,\n",
       "         'Kavon': 1,\n",
       "         'YAMISHU': 2,\n",
       "         'Lee, Cooper': 4,\n",
       "         'xylus': 1,\n",
       "         'Arivo': 1,\n",
       "         'Shozie': 1,\n",
       "         'NUMERA': 1,\n",
       "         'My, Walk': 1,\n",
       "         'Magnolia': 1,\n",
       "         'DIGITRENDZZ': 1,\n",
       "         'Absolute, comfort': 1,\n",
       "         'CEATO': 1,\n",
       "         'FASHIMO': 1,\n",
       "         'Hotmess': 1,\n",
       "         'Runway': 1,\n",
       "         'Royal, Khwaab': 1,\n",
       "         'Bonexy': 1,\n",
       "         'Rockfield': 2,\n",
       "         'Bacca, Bucci': 1,\n",
       "         'Woodland': 6,\n",
       "         'Vendoz': 1,\n",
       "         'Bacan': 1,\n",
       "         'pinstyle': 1,\n",
       "         'Creer': 3,\n",
       "         'lejano': 1,\n",
       "         'Adiso': 1,\n",
       "         'Unistar': 1,\n",
       "         'Creattoes': 1,\n",
       "         'FASHINO': 1,\n",
       "         'Ryag': 1,\n",
       "         'TOSHINA, SHOES, KING': 1,\n",
       "         'Blackwood': 1,\n",
       "         'John, Karsun': 1,\n",
       "         'RFM': 1,\n",
       "         'Tying': 1,\n",
       "         'West, Code': 1,\n",
       "         'Deny, Brown': 1,\n",
       "         'D, SNEAKERZ': 1,\n",
       "         'Best, S, Forward': 1,\n",
       "         'SCATCHITE': 1,\n",
       "         'SEGASTAR': 2,\n",
       "         'Dockstreet': 1,\n",
       "         'ZOVIM': 1,\n",
       "         'Shoe, Icon': 1,\n",
       "         'Action': 1,\n",
       "         'U, S, Polo, Assn': 1,\n",
       "         'Stark': 1,\n",
       "         'T, TRENDZ': 1,\n",
       "         'Avant': 1,\n",
       "         'Boxer': 1,\n",
       "         'Metronaut': 1,\n",
       "         'Gerief': 1})"
      ]
     },
     "execution_count": 6,
     "metadata": {},
     "output_type": "execute_result"
    }
   ],
   "source": [
    "Counter(df[\"Brand\"])"
   ]
  },
  {
   "cell_type": "code",
   "execution_count": 7,
   "metadata": {},
   "outputs": [
    {
     "data": {
      "text/plain": [
       "array(['Campus', 'Puma', 'Skechers', 'REEBOK', 'Fila', 'MILESWALKER',\n",
       "       'World, Wear, Footwear', 'Kzaara', 'Chevit', 'Shoefly', 'Hotstyle',\n",
       "       'Aadi', 'Asian', 'Dunkaston', 'Earton', 'Axter', 'AROOM',\n",
       "       'Inklenzo', 'Yonex', 'Sparx', 'Kraasa', 'BOLTAGO', 'LAYASA',\n",
       "       'layasa', 'Clymb', 'TIGONIS', 'Armado', 'RUFFBIRD', 'Sukun',\n",
       "       'URBANBOX', 'Nobelite', 'Mactree', 'Lee, Won', 'Red, Tape',\n",
       "       'Asics', 'Mr, SHOES', 'Beerock', 'WELDONE', 'ASF, Shoe', 'Camfoot',\n",
       "       'ASTEROID', 'Sporter', 'Nivia', 'Para, Trooper', 'Abisto',\n",
       "       'Freacksters', 'JIANSH', 'BRUTON', 'Woati', 'Bersache',\n",
       "       'bluemaker', 'Provogue', 'Essence', 'XYLUS', 'Adza', 'Numenzo',\n",
       "       'Bata', 'obot', 'DOLLER', 'Stinson', 'Claptrap', 'Fabbmate',\n",
       "       'SEGA', 'Lotto', 'Shoes, Kingdom', 'ADIDAS', 'TR', 'Density',\n",
       "       'RINDAS', 'M7, By, Metronaut', 'ADISO', 'Birde', 'MGZ',\n",
       "       'shoes, for, men', 'Bond, Street, By, Red, Tape', 'Nike', 'Gusto',\n",
       "       'Ktiz', 'Denvr', 'Marabous', 'Franco, Leone', 'Tryviz', 'ESSENCE',\n",
       "       'Toshina, shoes, king', 'Flickfinger', 'HRV, SPORTS', 'Kavon',\n",
       "       'YAMISHU', 'Lee, Cooper', 'xylus', 'Arivo', 'Shozie', 'NUMERA',\n",
       "       'My, Walk', 'Magnolia', 'DIGITRENDZZ', 'Absolute, comfort',\n",
       "       'CEATO', 'FASHIMO', 'Hotmess', 'Runway', 'Royal, Khwaab', 'Bonexy',\n",
       "       'Rockfield', 'Bacca, Bucci', 'Woodland', 'Vendoz', 'Bacan',\n",
       "       'pinstyle', 'Creer', 'lejano', 'Adiso', 'Unistar', 'Creattoes',\n",
       "       'FASHINO', 'Ryag', 'TOSHINA, SHOES, KING', 'Blackwood',\n",
       "       'John, Karsun', 'RFM', 'Tying', 'West, Code', 'Deny, Brown',\n",
       "       'D, SNEAKERZ', 'Best, S, Forward', 'SCATCHITE', 'SEGASTAR',\n",
       "       'Dockstreet', 'ZOVIM', 'Shoe, Icon', 'Action', 'U, S, Polo, Assn',\n",
       "       'Stark', 'T, TRENDZ', 'Avant', 'Boxer', 'Metronaut', 'Gerief'],\n",
       "      dtype=object)"
      ]
     },
     "execution_count": 7,
     "metadata": {},
     "output_type": "execute_result"
    }
   ],
   "source": [
    "df['Brand'].unique()"
   ]
  },
  {
   "cell_type": "code",
   "execution_count": 8,
   "metadata": {},
   "outputs": [],
   "source": [
    "df5=df[(df.Brand == 'Puma') | (df.Brand == 'ADIDAS') | (df.Brand == 'Asian') | (df.Brand == 'REEBOK') | (df.Brand == 'Sparx') |(df.Brand == 'Provogue') | (df.Brand == 'Kraasa') | (df.Brand == 'Nike') | (df.Brand == 'Campus') | (df.Brand == 'Yonex')] "
   ]
  },
  {
   "cell_type": "code",
   "execution_count": 9,
   "metadata": {},
   "outputs": [
    {
     "data": {
      "text/plain": [
       "(249, 9)"
      ]
     },
     "execution_count": 9,
     "metadata": {},
     "output_type": "execute_result"
    }
   ],
   "source": [
    "df5.shape"
   ]
  },
  {
   "cell_type": "code",
   "execution_count": 10,
   "metadata": {},
   "outputs": [
    {
     "data": {
      "text/html": [
       "<div>\n",
       "<style scoped>\n",
       "    .dataframe tbody tr th:only-of-type {\n",
       "        vertical-align: middle;\n",
       "    }\n",
       "\n",
       "    .dataframe tbody tr th {\n",
       "        vertical-align: top;\n",
       "    }\n",
       "\n",
       "    .dataframe thead th {\n",
       "        text-align: right;\n",
       "    }\n",
       "</style>\n",
       "<table border=\"1\" class=\"dataframe\">\n",
       "  <thead>\n",
       "    <tr style=\"text-align: right;\">\n",
       "      <th></th>\n",
       "      <th>Name</th>\n",
       "      <th>Colour</th>\n",
       "      <th>Gender</th>\n",
       "      <th>Brand</th>\n",
       "      <th>Price</th>\n",
       "      <th>Offer</th>\n",
       "      <th>Ratings</th>\n",
       "      <th>No of Ratings</th>\n",
       "      <th>No of Reviews</th>\n",
       "    </tr>\n",
       "  </thead>\n",
       "  <tbody>\n",
       "    <tr>\n",
       "      <td>0</td>\n",
       "      <td>CRYSTA Running Shoes</td>\n",
       "      <td>Blue</td>\n",
       "      <td>Men</td>\n",
       "      <td>Campus</td>\n",
       "      <td>786</td>\n",
       "      <td>25.0</td>\n",
       "      <td>4.1</td>\n",
       "      <td>6590.0</td>\n",
       "      <td>1000.0</td>\n",
       "    </tr>\n",
       "    <tr>\n",
       "      <td>1</td>\n",
       "      <td>Troy MU IDP Walking Shoes</td>\n",
       "      <td>Grey</td>\n",
       "      <td>Men</td>\n",
       "      <td>Puma</td>\n",
       "      <td>1399</td>\n",
       "      <td>65.0</td>\n",
       "      <td>3.9</td>\n",
       "      <td>414.0</td>\n",
       "      <td>71.0</td>\n",
       "    </tr>\n",
       "    <tr>\n",
       "      <td>2</td>\n",
       "      <td>Running Shoes</td>\n",
       "      <td>Black</td>\n",
       "      <td>Men</td>\n",
       "      <td>Puma</td>\n",
       "      <td>1399</td>\n",
       "      <td>65.0</td>\n",
       "      <td>4.2</td>\n",
       "      <td>27.0</td>\n",
       "      <td>4.0</td>\n",
       "    </tr>\n",
       "    <tr>\n",
       "      <td>4</td>\n",
       "      <td>Propel 3D MU IDP Running Shoes</td>\n",
       "      <td>Blue</td>\n",
       "      <td>Men</td>\n",
       "      <td>Puma</td>\n",
       "      <td>1399</td>\n",
       "      <td>65.0</td>\n",
       "      <td>4.2</td>\n",
       "      <td>381.0</td>\n",
       "      <td>62.0</td>\n",
       "    </tr>\n",
       "    <tr>\n",
       "      <td>5</td>\n",
       "      <td>Running Shoes</td>\n",
       "      <td>White</td>\n",
       "      <td>Men</td>\n",
       "      <td>REEBOK</td>\n",
       "      <td>999</td>\n",
       "      <td>72.0</td>\n",
       "      <td>3.9</td>\n",
       "      <td>106.0</td>\n",
       "      <td>19.0</td>\n",
       "    </tr>\n",
       "    <tr>\n",
       "      <td>...</td>\n",
       "      <td>...</td>\n",
       "      <td>...</td>\n",
       "      <td>...</td>\n",
       "      <td>...</td>\n",
       "      <td>...</td>\n",
       "      <td>...</td>\n",
       "      <td>...</td>\n",
       "      <td>...</td>\n",
       "      <td>...</td>\n",
       "    </tr>\n",
       "    <tr>\n",
       "      <td>590</td>\n",
       "      <td>Running Shoes</td>\n",
       "      <td>Silver</td>\n",
       "      <td>Men</td>\n",
       "      <td>Puma</td>\n",
       "      <td>1799</td>\n",
       "      <td>60.0</td>\n",
       "      <td>4.3</td>\n",
       "      <td>609.0</td>\n",
       "      <td>97.0</td>\n",
       "    </tr>\n",
       "    <tr>\n",
       "      <td>594</td>\n",
       "      <td>NIKE PRECISION IV Basketball Shoes</td>\n",
       "      <td>Black</td>\n",
       "      <td>Men</td>\n",
       "      <td>Nike</td>\n",
       "      <td>3956</td>\n",
       "      <td>28.0</td>\n",
       "      <td>3.3</td>\n",
       "      <td>9.0</td>\n",
       "      <td>1.0</td>\n",
       "    </tr>\n",
       "    <tr>\n",
       "      <td>602</td>\n",
       "      <td>Watt IDP Running Shoes</td>\n",
       "      <td>Grey</td>\n",
       "      <td>Men</td>\n",
       "      <td>Puma</td>\n",
       "      <td>1760</td>\n",
       "      <td>55.0</td>\n",
       "      <td>4.3</td>\n",
       "      <td>315.0</td>\n",
       "      <td>47.0</td>\n",
       "    </tr>\n",
       "    <tr>\n",
       "      <td>605</td>\n",
       "      <td>NASA Running Shoes</td>\n",
       "      <td>Blue</td>\n",
       "      <td>Men</td>\n",
       "      <td>Campus</td>\n",
       "      <td>1274</td>\n",
       "      <td>25.0</td>\n",
       "      <td>4.2</td>\n",
       "      <td>6384.0</td>\n",
       "      <td>1085.0</td>\n",
       "    </tr>\n",
       "    <tr>\n",
       "      <td>610</td>\n",
       "      <td>Easywalk-08 Running shoes for boys |sports sho...</td>\n",
       "      <td>Maroon, Maroon</td>\n",
       "      <td>Men</td>\n",
       "      <td>Asian</td>\n",
       "      <td>759</td>\n",
       "      <td>24.0</td>\n",
       "      <td>4.0</td>\n",
       "      <td>2225.0</td>\n",
       "      <td>351.0</td>\n",
       "    </tr>\n",
       "  </tbody>\n",
       "</table>\n",
       "<p>249 rows × 9 columns</p>\n",
       "</div>"
      ],
      "text/plain": [
       "                                                  Name          Colour Gender  \\\n",
       "0                                CRYSTA Running Shoes             Blue    Men   \n",
       "1                           Troy MU IDP Walking Shoes             Grey    Men   \n",
       "2                                       Running Shoes            Black    Men   \n",
       "4                      Propel 3D MU IDP Running Shoes             Blue    Men   \n",
       "5                                       Running Shoes            White    Men   \n",
       "..                                                 ...             ...    ...   \n",
       "590                                     Running Shoes           Silver    Men   \n",
       "594                NIKE PRECISION IV Basketball Shoes            Black    Men   \n",
       "602                            Watt IDP Running Shoes             Grey    Men   \n",
       "605                                NASA Running Shoes             Blue    Men   \n",
       "610  Easywalk-08 Running shoes for boys |sports sho...  Maroon, Maroon    Men   \n",
       "\n",
       "      Brand  Price  Offer  Ratings  No of Ratings  No of Reviews  \n",
       "0    Campus    786   25.0      4.1         6590.0         1000.0  \n",
       "1      Puma   1399   65.0      3.9          414.0           71.0  \n",
       "2      Puma   1399   65.0      4.2           27.0            4.0  \n",
       "4      Puma   1399   65.0      4.2          381.0           62.0  \n",
       "5    REEBOK    999   72.0      3.9          106.0           19.0  \n",
       "..      ...    ...    ...      ...            ...            ...  \n",
       "590    Puma   1799   60.0      4.3          609.0           97.0  \n",
       "594    Nike   3956   28.0      3.3            9.0            1.0  \n",
       "602    Puma   1760   55.0      4.3          315.0           47.0  \n",
       "605  Campus   1274   25.0      4.2         6384.0         1085.0  \n",
       "610   Asian    759   24.0      4.0         2225.0          351.0  \n",
       "\n",
       "[249 rows x 9 columns]"
      ]
     },
     "execution_count": 10,
     "metadata": {},
     "output_type": "execute_result"
    }
   ],
   "source": [
    "df5"
   ]
  },
  {
   "cell_type": "code",
   "execution_count": 11,
   "metadata": {},
   "outputs": [
    {
     "data": {
      "text/html": [
       "<div>\n",
       "<style scoped>\n",
       "    .dataframe tbody tr th:only-of-type {\n",
       "        vertical-align: middle;\n",
       "    }\n",
       "\n",
       "    .dataframe tbody tr th {\n",
       "        vertical-align: top;\n",
       "    }\n",
       "\n",
       "    .dataframe thead th {\n",
       "        text-align: right;\n",
       "    }\n",
       "</style>\n",
       "<table border=\"1\" class=\"dataframe\">\n",
       "  <thead>\n",
       "    <tr style=\"text-align: right;\">\n",
       "      <th></th>\n",
       "      <th>Name</th>\n",
       "      <th>Colour</th>\n",
       "      <th>Gender</th>\n",
       "      <th>Brand</th>\n",
       "      <th>Price</th>\n",
       "      <th>Offer</th>\n",
       "      <th>Ratings</th>\n",
       "      <th>No of Ratings</th>\n",
       "      <th>No of Reviews</th>\n",
       "    </tr>\n",
       "  </thead>\n",
       "  <tbody>\n",
       "    <tr>\n",
       "      <td>285</td>\n",
       "      <td>NIKE ZOOM WINFLO 7 Running Shoes</td>\n",
       "      <td>Black</td>\n",
       "      <td>Men</td>\n",
       "      <td>Nike</td>\n",
       "      <td>5676</td>\n",
       "      <td>29.0</td>\n",
       "      <td>4.1</td>\n",
       "      <td>15.0</td>\n",
       "      <td>2.0</td>\n",
       "    </tr>\n",
       "    <tr>\n",
       "      <td>265</td>\n",
       "      <td>Air Max Impact Basketball Shoes</td>\n",
       "      <td>Black</td>\n",
       "      <td>Men</td>\n",
       "      <td>Nike</td>\n",
       "      <td>5676</td>\n",
       "      <td>29.0</td>\n",
       "      <td>4.3</td>\n",
       "      <td>106.0</td>\n",
       "      <td>12.0</td>\n",
       "    </tr>\n",
       "    <tr>\n",
       "      <td>427</td>\n",
       "      <td>NIKE AIR MAX IMPACT Basketball Shoes</td>\n",
       "      <td>Black</td>\n",
       "      <td>Men</td>\n",
       "      <td>Nike</td>\n",
       "      <td>5676</td>\n",
       "      <td>29.0</td>\n",
       "      <td>4.5</td>\n",
       "      <td>14.0</td>\n",
       "      <td>4.0</td>\n",
       "    </tr>\n",
       "    <tr>\n",
       "      <td>413</td>\n",
       "      <td>Ferrari Drift Cat 5 Ultra Training &amp; Gym Shoes</td>\n",
       "      <td>Red</td>\n",
       "      <td>Men</td>\n",
       "      <td>Puma</td>\n",
       "      <td>4899</td>\n",
       "      <td>30.0</td>\n",
       "      <td>4.4</td>\n",
       "      <td>1467.0</td>\n",
       "      <td>198.0</td>\n",
       "    </tr>\n",
       "    <tr>\n",
       "      <td>456</td>\n",
       "      <td>IGNITE Flash evoKNIT Running Shoes</td>\n",
       "      <td>Grey</td>\n",
       "      <td>Men</td>\n",
       "      <td>Puma</td>\n",
       "      <td>4549</td>\n",
       "      <td>30.0</td>\n",
       "      <td>4.2</td>\n",
       "      <td>453.0</td>\n",
       "      <td>61.0</td>\n",
       "    </tr>\n",
       "    <tr>\n",
       "      <td>...</td>\n",
       "      <td>...</td>\n",
       "      <td>...</td>\n",
       "      <td>...</td>\n",
       "      <td>...</td>\n",
       "      <td>...</td>\n",
       "      <td>...</td>\n",
       "      <td>...</td>\n",
       "      <td>...</td>\n",
       "      <td>...</td>\n",
       "    </tr>\n",
       "    <tr>\n",
       "      <td>162</td>\n",
       "      <td>Walking Shoes,Gym Shoes,Knit Sports Shoes,Trai...</td>\n",
       "      <td>Black</td>\n",
       "      <td>Men</td>\n",
       "      <td>Asian</td>\n",
       "      <td>474</td>\n",
       "      <td>20.0</td>\n",
       "      <td>4.1</td>\n",
       "      <td>26554.0</td>\n",
       "      <td>3911.0</td>\n",
       "    </tr>\n",
       "    <tr>\n",
       "      <td>237</td>\n",
       "      <td>Men Synthetic Leather Office Black Formal Shoe...</td>\n",
       "      <td>Black</td>\n",
       "      <td>Men</td>\n",
       "      <td>Kraasa</td>\n",
       "      <td>474</td>\n",
       "      <td>52.0</td>\n",
       "      <td>3.7</td>\n",
       "      <td>20394.0</td>\n",
       "      <td>2765.0</td>\n",
       "    </tr>\n",
       "    <tr>\n",
       "      <td>217</td>\n",
       "      <td>Men Synthetic Leather Office Black Formal Shoe...</td>\n",
       "      <td>Black</td>\n",
       "      <td>Men</td>\n",
       "      <td>Kraasa</td>\n",
       "      <td>474</td>\n",
       "      <td>52.0</td>\n",
       "      <td>3.8</td>\n",
       "      <td>14198.0</td>\n",
       "      <td>2231.0</td>\n",
       "    </tr>\n",
       "    <tr>\n",
       "      <td>450</td>\n",
       "      <td>Mens Flyknit Sneakers, Lightweight, Breathable...</td>\n",
       "      <td>Black</td>\n",
       "      <td>Men</td>\n",
       "      <td>Kraasa</td>\n",
       "      <td>474</td>\n",
       "      <td>52.0</td>\n",
       "      <td>4.1</td>\n",
       "      <td>759.0</td>\n",
       "      <td>111.0</td>\n",
       "    </tr>\n",
       "    <tr>\n",
       "      <td>218</td>\n",
       "      <td>Men SM-402 Navy Blue Slip On Sneakers</td>\n",
       "      <td>Navy</td>\n",
       "      <td>Men</td>\n",
       "      <td>Sparx</td>\n",
       "      <td>445</td>\n",
       "      <td>10.0</td>\n",
       "      <td>4.2</td>\n",
       "      <td>28398.0</td>\n",
       "      <td>4583.0</td>\n",
       "    </tr>\n",
       "  </tbody>\n",
       "</table>\n",
       "<p>249 rows × 9 columns</p>\n",
       "</div>"
      ],
      "text/plain": [
       "                                                  Name Colour Gender   Brand  \\\n",
       "285                  NIKE ZOOM WINFLO 7 Running Shoes   Black    Men    Nike   \n",
       "265                   Air Max Impact Basketball Shoes   Black    Men    Nike   \n",
       "427              NIKE AIR MAX IMPACT Basketball Shoes   Black    Men    Nike   \n",
       "413    Ferrari Drift Cat 5 Ultra Training & Gym Shoes     Red    Men    Puma   \n",
       "456                IGNITE Flash evoKNIT Running Shoes    Grey    Men    Puma   \n",
       "..                                                 ...    ...    ...     ...   \n",
       "162  Walking Shoes,Gym Shoes,Knit Sports Shoes,Trai...  Black    Men   Asian   \n",
       "237  Men Synthetic Leather Office Black Formal Shoe...  Black    Men  Kraasa   \n",
       "217  Men Synthetic Leather Office Black Formal Shoe...  Black    Men  Kraasa   \n",
       "450  Mens Flyknit Sneakers, Lightweight, Breathable...  Black    Men  Kraasa   \n",
       "218             Men SM-402 Navy Blue Slip On Sneakers    Navy    Men   Sparx   \n",
       "\n",
       "     Price  Offer  Ratings  No of Ratings  No of Reviews  \n",
       "285   5676   29.0      4.1           15.0            2.0  \n",
       "265   5676   29.0      4.3          106.0           12.0  \n",
       "427   5676   29.0      4.5           14.0            4.0  \n",
       "413   4899   30.0      4.4         1467.0          198.0  \n",
       "456   4549   30.0      4.2          453.0           61.0  \n",
       "..     ...    ...      ...            ...            ...  \n",
       "162    474   20.0      4.1        26554.0         3911.0  \n",
       "237    474   52.0      3.7        20394.0         2765.0  \n",
       "217    474   52.0      3.8        14198.0         2231.0  \n",
       "450    474   52.0      4.1          759.0          111.0  \n",
       "218    445   10.0      4.2        28398.0         4583.0  \n",
       "\n",
       "[249 rows x 9 columns]"
      ]
     },
     "execution_count": 11,
     "metadata": {},
     "output_type": "execute_result"
    }
   ],
   "source": [
    "df5.sort_values(by=\"Price\",ascending=False)"
   ]
  },
  {
   "cell_type": "markdown",
   "metadata": {},
   "source": [
    "# Uni-Variate"
   ]
  },
  {
   "cell_type": "code",
   "execution_count": 12,
   "metadata": {},
   "outputs": [
    {
     "data": {
      "text/plain": [
       "[]"
      ]
     },
     "execution_count": 12,
     "metadata": {},
     "output_type": "execute_result"
    },
    {
     "data": {
      "image/png": "[encoded data removed]",
      "text/plain": [
       "<Figure size 432x288 with 1 Axes>"
      ]
     },
     "metadata": {
      "needs_background": "light"
     },
     "output_type": "display_data"
    }
   ],
   "source": [
    "df5.Ratings.hist()\n",
    "plt.xlabel('Rating')\n",
    "plt.ylabel('Frequencies')\n",
    "plt.plot()"
   ]
  },
  {
   "cell_type": "code",
   "execution_count": 13,
   "metadata": {},
   "outputs": [
    {
     "data": {
      "image/png": "[encoded data removed]",
      "text/plain": [
       "<Figure size 432x288 with 1 Axes>"
      ]
     },
     "metadata": {
      "needs_background": "light"
     },
     "output_type": "display_data"
    }
   ],
   "source": [
    "sns.boxplot(x=\"Ratings\",y=\"Price\",data=df5);"
   ]
  },
  {
   "cell_type": "code",
   "execution_count": 14,
   "metadata": {},
   "outputs": [
    {
     "data": {
      "image/png": "[encoded data removed]",
      "text/plain": [
       "<Figure size 432x288 with 1 Axes>"
      ]
     },
     "metadata": {
      "needs_background": "light"
     },
     "output_type": "display_data"
    }
   ],
   "source": [
    "sns.boxplot(x=\"Ratings\",data=df5);"
   ]
  },
  {
   "cell_type": "code",
   "execution_count": 15,
   "metadata": {},
   "outputs": [
    {
     "data": {
      "image/png": "[encoded data removed]",
      "text/plain": [
       "<Figure size 432x288 with 1 Axes>"
      ]
     },
     "metadata": {
      "needs_background": "light"
     },
     "output_type": "display_data"
    }
   ],
   "source": [
    "sns.boxplot(x=\"Price\",data=df5);"
   ]
  },
  {
   "cell_type": "code",
   "execution_count": 16,
   "metadata": {},
   "outputs": [
    {
     "data": {
      "text/plain": [
       "[]"
      ]
     },
     "execution_count": 16,
     "metadata": {},
     "output_type": "execute_result"
    },
    {
     "data": {
      "image/png": "[encoded data removed]",
      "text/plain": [
       "<Figure size 432x288 with 1 Axes>"
      ]
     },
     "metadata": {
      "needs_background": "light"
     },
     "output_type": "display_data"
    }
   ],
   "source": [
    "df5.Price.hist()\n",
    "plt.xlabel('Price')\n",
    "plt.ylabel('Frequency')\n",
    "plt.plot()"
   ]
  },
  {
   "cell_type": "code",
   "execution_count": 17,
   "metadata": {},
   "outputs": [
    {
     "data": {
      "text/plain": [
       "[]"
      ]
     },
     "execution_count": 17,
     "metadata": {},
     "output_type": "execute_result"
    },
    {
     "data": {
      "image/png": "[encoded data removed]",
      "text/plain": [
       "<Figure size 432x288 with 1 Axes>"
      ]
     },
     "metadata": {
      "needs_background": "light"
     },
     "output_type": "display_data"
    }
   ],
   "source": [
    "df5.Offer.hist()\n",
    "plt.xlabel('Offers')\n",
    "plt.ylabel('Frequency')\n",
    "plt.plot()"
   ]
  },
  {
   "cell_type": "code",
   "execution_count": 18,
   "metadata": {},
   "outputs": [
    {
     "name": "stderr",
     "output_type": "stream",
     "text": [
      "C:\\Users\\Rahul\\Anaconda3\\lib\\site-packages\\ipykernel_launcher.py:5: FutureWarning: `Series.plot()` should not be called with positional arguments, only keyword arguments. The order of positional arguments will change in the future. Use `Series.plot(kind='pie')` instead of `Series.plot('pie',)`.\n",
      "  \"\"\"\n"
     ]
    },
    {
     "data": {
      "text/plain": [
       "<AxesSubplot:ylabel='Price'>"
      ]
     },
     "execution_count": 18,
     "metadata": {},
     "output_type": "execute_result"
    },
    {
     "data": {
      "image/png": "[encoded data removed]",
      "text/plain": [
       "<Figure size 720x720 with 1 Axes>"
      ]
     },
     "metadata": {},
     "output_type": "display_data"
    }
   ],
   "source": [
    "f,ax=plt.subplots(figsize=(10,10)) \n",
    "ax1=plt.subplot(211)\n",
    "f.suptitle(\"Price percentage,counts and distribution\")\n",
    "explode=(0.05,0.05,0.05,0.05,0.05,0.05,0.05,0.05,0.05,1)\n",
    "df5['Price'].value_counts(ascending=False).head(10).plot('pie',autopct=\"%0.2f%%\",explode=explode,ax=ax1)\n",
    "# Pie plot for top 10 values of price."
   ]
  },
  {
   "cell_type": "code",
   "execution_count": 19,
   "metadata": {},
   "outputs": [
    {
     "data": {
      "text/plain": [
       "<bound method Axes.plot of <AxesSubplot:ylabel='Frequency'>>"
      ]
     },
     "execution_count": 19,
     "metadata": {},
     "output_type": "execute_result"
    },
    {
     "data": {
      "image/png": "[encoded data removed]",
      "text/plain": [
       "<Figure size 720x720 with 1 Axes>"
      ]
     },
     "metadata": {
      "needs_background": "light"
     },
     "output_type": "display_data"
    }
   ],
   "source": [
    "# Histogram Prices\n",
    "f,ax=plt.subplots(figsize=(10,10))\n",
    "ax2=plt.subplot(233)\n",
    "df5['Price'].plot.hist()\n",
    "ax2.plot"
   ]
  },
  {
   "cell_type": "code",
   "execution_count": 20,
   "metadata": {},
   "outputs": [
    {
     "data": {
      "text/plain": [
       "<AxesSubplot:xlabel='Price'>"
      ]
     },
     "execution_count": 20,
     "metadata": {},
     "output_type": "execute_result"
    },
    {
     "data": {
      "image/png": "[encoded data removed]",
      "text/plain": [
       "<Figure size 720x720 with 1 Axes>"
      ]
     },
     "metadata": {
      "needs_background": "light"
     },
     "output_type": "display_data"
    }
   ],
   "source": [
    "# Distribution plot for all prices.\n",
    "f,ax=plt.subplots(figsize=(10,10))\n",
    "ax3=plt.subplot(224)\n",
    "sns.distplot(df5['Price'],ax=ax3) "
   ]
  },
  {
   "cell_type": "code",
   "execution_count": 21,
   "metadata": {},
   "outputs": [
    {
     "name": "stderr",
     "output_type": "stream",
     "text": [
      "C:\\Users\\Rahul\\Anaconda3\\lib\\site-packages\\ipykernel_launcher.py:3: FutureWarning: `Series.plot()` should not be called with positional arguments, only keyword arguments. The order of positional arguments will change in the future. Use `Series.plot(kind='hist')` instead of `Series.plot('hist',)`.\n",
      "  This is separate from the ipykernel package so we can avoid doing imports until\n",
      "C:\\Users\\Rahul\\Anaconda3\\lib\\site-packages\\ipykernel_launcher.py:4: FutureWarning: `Series.plot()` should not be called with positional arguments, only keyword arguments. The order of positional arguments will change in the future. Use `Series.plot(kind='hist')` instead of `Series.plot('hist',)`.\n",
      "  after removing the cwd from sys.path.\n"
     ]
    },
    {
     "data": {
      "text/plain": [
       "<AxesSubplot:ylabel='Frequency'>"
      ]
     },
     "execution_count": 21,
     "metadata": {},
     "output_type": "execute_result"
    },
    {
     "data": {
      "image/png": "[encoded data removed]",
      "text/plain": [
       "<Figure size 1080x360 with 2 Axes>"
      ]
     },
     "metadata": {
      "needs_background": "light"
     },
     "output_type": "display_data"
    }
   ],
   "source": [
    "f,ax=plt.subplots(1,2,figsize=(15,5))\n",
    "f.suptitle(\"Frequencies of Price and Ratings\")\n",
    "df5['Price'].plot('hist',ax=ax[0]) # histogram for Price.\n",
    "df5['Ratings'].plot('hist',ax=ax[1]) # histogram for Ratings."
   ]
  },
  {
   "cell_type": "code",
   "execution_count": 22,
   "metadata": {},
   "outputs": [
    {
     "name": "stderr",
     "output_type": "stream",
     "text": [
      "C:\\Users\\Rahul\\Anaconda3\\lib\\site-packages\\ipykernel_launcher.py:1: FutureWarning: `Series.plot()` should not be called with positional arguments, only keyword arguments. The order of positional arguments will change in the future. Use `Series.plot(kind='hist')` instead of `Series.plot('hist',)`.\n",
      "  \"\"\"Entry point for launching an IPython kernel.\n"
     ]
    },
    {
     "data": {
      "text/plain": [
       "Text(0.5, 1.0, 'Count of Customer Ratings')"
      ]
     },
     "execution_count": 22,
     "metadata": {},
     "output_type": "execute_result"
    },
    {
     "data": {
      "image/png": "[encoded data removed]",
      "text/plain": [
       "<Figure size 432x288 with 1 Axes>"
      ]
     },
     "metadata": {
      "needs_background": "light"
     },
     "output_type": "display_data"
    }
   ],
   "source": [
    "df5['Ratings'].plot('hist')\n",
    "plt.title('Count of Customer Ratings')"
   ]
  },
  {
   "cell_type": "markdown",
   "metadata": {},
   "source": [
    "# Bi-Variate Analysis"
   ]
  },
  {
   "cell_type": "code",
   "execution_count": 23,
   "metadata": {},
   "outputs": [
    {
     "data": {
      "text/plain": [
       "<AxesSubplot:xlabel='Ratings', ylabel='Price'>"
      ]
     },
     "execution_count": 23,
     "metadata": {},
     "output_type": "execute_result"
    },
    {
     "data": {
      "image/png": "[encoded data removed]",
      "text/plain": [
       "<Figure size 720x432 with 1 Axes>"
      ]
     },
     "metadata": {
      "needs_background": "light"
     },
     "output_type": "display_data"
    }
   ],
   "source": [
    "plt.figure(figsize=(10, 6))\n",
    "sns.barplot(x='Ratings',y='Price',data=df5)"
   ]
  },
  {
   "cell_type": "markdown",
   "metadata": {},
   "source": [
    "# Total Numbers of Ratings"
   ]
  },
  {
   "cell_type": "code",
   "execution_count": 24,
   "metadata": {},
   "outputs": [
    {
     "data": {
      "text/plain": [
       "(array([0, 1, 2, 3, 4, 5, 6, 7, 8, 9]),\n",
       " [Text(0, 0, 'Campus'),\n",
       "  Text(1, 0, 'Puma'),\n",
       "  Text(2, 0, 'REEBOK'),\n",
       "  Text(3, 0, 'Asian'),\n",
       "  Text(4, 0, 'Yonex'),\n",
       "  Text(5, 0, 'Sparx'),\n",
       "  Text(6, 0, 'Kraasa'),\n",
       "  Text(7, 0, 'Provogue'),\n",
       "  Text(8, 0, 'ADIDAS'),\n",
       "  Text(9, 0, 'Nike')])"
      ]
     },
     "execution_count": 24,
     "metadata": {},
     "output_type": "execute_result"
    },
    {
     "data": {
      "image/png": "[encoded data removed]",
      "text/plain": [
       "<Figure size 720x432 with 1 Axes>"
      ]
     },
     "metadata": {
      "needs_background": "light"
     },
     "output_type": "display_data"
    }
   ],
   "source": [
    "plt.figure(figsize=(10, 6))\n",
    "sns.barplot(x='Brand',y='No of Ratings',data=df5);\n",
    "plt.xticks(rotation=90)"
   ]
  },
  {
   "cell_type": "code",
   "execution_count": 25,
   "metadata": {},
   "outputs": [
    {
     "data": {
      "text/plain": [
       "(array([0, 1, 2, 3, 4, 5, 6, 7, 8, 9]),\n",
       " [Text(0, 0, 'Campus'),\n",
       "  Text(1, 0, 'Puma'),\n",
       "  Text(2, 0, 'REEBOK'),\n",
       "  Text(3, 0, 'Asian'),\n",
       "  Text(4, 0, 'Yonex'),\n",
       "  Text(5, 0, 'Sparx'),\n",
       "  Text(6, 0, 'Kraasa'),\n",
       "  Text(7, 0, 'Provogue'),\n",
       "  Text(8, 0, 'ADIDAS'),\n",
       "  Text(9, 0, 'Nike')])"
      ]
     },
     "execution_count": 25,
     "metadata": {},
     "output_type": "execute_result"
    },
    {
     "data": {
      "image/png": "[encoded data removed]",
      "text/plain": [
       "<Figure size 720x432 with 1 Axes>"
      ]
     },
     "metadata": {
      "needs_background": "light"
     },
     "output_type": "display_data"
    }
   ],
   "source": [
    "plt.figure(figsize=(10, 6))\n",
    "sns.barplot(x='Brand',y='Offer',data=df5);\n",
    "plt.xticks(rotation=90)"
   ]
  },
  {
   "cell_type": "code",
   "execution_count": 26,
   "metadata": {},
   "outputs": [
    {
     "data": {
      "text/plain": [
       "(array([0, 1, 2, 3, 4, 5, 6, 7, 8, 9]),\n",
       " [Text(0, 0, 'Campus'),\n",
       "  Text(1, 0, 'Puma'),\n",
       "  Text(2, 0, 'REEBOK'),\n",
       "  Text(3, 0, 'Asian'),\n",
       "  Text(4, 0, 'Yonex'),\n",
       "  Text(5, 0, 'Sparx'),\n",
       "  Text(6, 0, 'Kraasa'),\n",
       "  Text(7, 0, 'Provogue'),\n",
       "  Text(8, 0, 'ADIDAS'),\n",
       "  Text(9, 0, 'Nike')])"
      ]
     },
     "execution_count": 26,
     "metadata": {},
     "output_type": "execute_result"
    },
    {
     "data": {
      "image/png": "[encoded data removed]",
      "text/plain": [
       "<Figure size 720x432 with 1 Axes>"
      ]
     },
     "metadata": {
      "needs_background": "light"
     },
     "output_type": "display_data"
    }
   ],
   "source": [
    "plt.figure(figsize=(10, 6))\n",
    "sns.barplot(x='Brand',y='Price',data=df5);\n",
    "plt.xticks(rotation=90)"
   ]
  },
  {
   "cell_type": "markdown",
   "metadata": {},
   "source": [
    "# Highest Rating"
   ]
  },
  {
   "cell_type": "code",
   "execution_count": 27,
   "metadata": {},
   "outputs": [
    {
     "data": {
      "text/plain": [
       "(array([0, 1, 2, 3, 4, 5, 6, 7, 8, 9]),\n",
       " [Text(0, 0, 'Campus'),\n",
       "  Text(1, 0, 'Puma'),\n",
       "  Text(2, 0, 'REEBOK'),\n",
       "  Text(3, 0, 'Asian'),\n",
       "  Text(4, 0, 'Yonex'),\n",
       "  Text(5, 0, 'Sparx'),\n",
       "  Text(6, 0, 'Kraasa'),\n",
       "  Text(7, 0, 'Provogue'),\n",
       "  Text(8, 0, 'ADIDAS'),\n",
       "  Text(9, 0, 'Nike')])"
      ]
     },
     "execution_count": 27,
     "metadata": {},
     "output_type": "execute_result"
    },
    {
     "data": {
      "image/png": "[encoded data removed]",
      "text/plain": [
       "<Figure size 720x432 with 1 Axes>"
      ]
     },
     "metadata": {
      "needs_background": "light"
     },
     "output_type": "display_data"
    }
   ],
   "source": [
    "plt.figure(figsize=(10, 6))\n",
    "sns.barplot(x='Brand',y='Ratings',data=df5);\n",
    "plt.xticks(rotation=90)"
   ]
  },
  {
   "cell_type": "code",
   "execution_count": 28,
   "metadata": {},
   "outputs": [
    {
     "data": {
      "text/plain": [
       "(array([0, 1, 2, 3, 4, 5, 6, 7, 8, 9]),\n",
       " [Text(0, 0, 'Campus'),\n",
       "  Text(1, 0, 'Puma'),\n",
       "  Text(2, 0, 'REEBOK'),\n",
       "  Text(3, 0, 'Asian'),\n",
       "  Text(4, 0, 'Yonex'),\n",
       "  Text(5, 0, 'Sparx'),\n",
       "  Text(6, 0, 'Kraasa'),\n",
       "  Text(7, 0, 'Provogue'),\n",
       "  Text(8, 0, 'ADIDAS'),\n",
       "  Text(9, 0, 'Nike')])"
      ]
     },
     "execution_count": 28,
     "metadata": {},
     "output_type": "execute_result"
    },
    {
     "data": {
      "image/png": "[encoded data removed]",
      "text/plain": [
       "<Figure size 720x432 with 1 Axes>"
      ]
     },
     "metadata": {
      "needs_background": "light"
     },
     "output_type": "display_data"
    }
   ],
   "source": [
    "plt.figure(figsize=(10, 6))\n",
    "sns.barplot(x='Brand',y='No of Reviews',data=df5);\n",
    "plt.xticks(rotation=90)"
   ]
  },
  {
   "cell_type": "markdown",
   "metadata": {},
   "source": [
    "# Multi-Variate"
   ]
  },
  {
   "cell_type": "code",
   "execution_count": 29,
   "metadata": {},
   "outputs": [
    {
     "data": {
      "text/plain": [
       "(array([0, 1, 2, 3, 4, 5, 6, 7, 8, 9]),\n",
       " [Text(0, 0, 'Campus'),\n",
       "  Text(1, 0, 'Puma'),\n",
       "  Text(2, 0, 'REEBOK'),\n",
       "  Text(3, 0, 'Asian'),\n",
       "  Text(4, 0, 'Yonex'),\n",
       "  Text(5, 0, 'Sparx'),\n",
       "  Text(6, 0, 'Kraasa'),\n",
       "  Text(7, 0, 'Provogue'),\n",
       "  Text(8, 0, 'ADIDAS'),\n",
       "  Text(9, 0, 'Nike')])"
      ]
     },
     "execution_count": 29,
     "metadata": {},
     "output_type": "execute_result"
    },
    {
     "data": {
      "image/png": "[encoded data removed]",
      "text/plain": [
       "<Figure size 720x432 with 1 Axes>"
      ]
     },
     "metadata": {
      "needs_background": "light"
     },
     "output_type": "display_data"
    }
   ],
   "source": [
    "plt.figure(figsize=(10, 6))\n",
    "sns.barplot(x='Brand',y='Price',hue='Gender',data=df5);\n",
    "plt.xticks(rotation=90)"
   ]
  },
  {
   "cell_type": "code",
   "execution_count": 30,
   "metadata": {},
   "outputs": [
    {
     "data": {
      "text/plain": [
       "(array([0, 1, 2, 3, 4, 5, 6, 7, 8, 9]),\n",
       " [Text(0, 0, 'Campus'),\n",
       "  Text(1, 0, 'Puma'),\n",
       "  Text(2, 0, 'REEBOK'),\n",
       "  Text(3, 0, 'Asian'),\n",
       "  Text(4, 0, 'Yonex'),\n",
       "  Text(5, 0, 'Sparx'),\n",
       "  Text(6, 0, 'Kraasa'),\n",
       "  Text(7, 0, 'Provogue'),\n",
       "  Text(8, 0, 'ADIDAS'),\n",
       "  Text(9, 0, 'Nike')])"
      ]
     },
     "execution_count": 30,
     "metadata": {},
     "output_type": "execute_result"
    },
    {
     "data": {
      "image/png": "[encoded data removed]",
      "text/plain": [
       "<Figure size 720x432 with 1 Axes>"
      ]
     },
     "metadata": {
      "needs_background": "light"
     },
     "output_type": "display_data"
    }
   ],
   "source": [
    "plt.figure(figsize=(10, 6))\n",
    "sns.barplot(x='Brand',y='Offer',hue='Gender',data=df5);\n",
    "plt.xticks(rotation=90)"
   ]
  },
  {
   "cell_type": "code",
   "execution_count": 31,
   "metadata": {},
   "outputs": [
    {
     "data": {
      "text/plain": [
       "(array([ 0,  1,  2,  3,  4,  5,  6,  7,  8,  9, 10]),\n",
       " [Text(0, 0, '3.3'),\n",
       "  Text(1, 0, '3.5'),\n",
       "  Text(2, 0, '3.7'),\n",
       "  Text(3, 0, '3.8'),\n",
       "  Text(4, 0, '3.9'),\n",
       "  Text(5, 0, '4.0'),\n",
       "  Text(6, 0, '4.1'),\n",
       "  Text(7, 0, '4.2'),\n",
       "  Text(8, 0, '4.3'),\n",
       "  Text(9, 0, '4.4'),\n",
       "  Text(10, 0, '4.5')])"
      ]
     },
     "execution_count": 31,
     "metadata": {},
     "output_type": "execute_result"
    },
    {
     "data": {
      "image/png": "[encoded data removed]",
      "text/plain": [
       "<Figure size 720x432 with 1 Axes>"
      ]
     },
     "metadata": {
      "needs_background": "light"
     },
     "output_type": "display_data"
    }
   ],
   "source": [
    "plt.figure(figsize=(10, 6))\n",
    "sns.barplot(x='Ratings',y='Price',hue='Gender',data=df5);\n",
    "plt.xticks(rotation=90)"
   ]
  },
  {
   "cell_type": "code",
   "execution_count": 32,
   "metadata": {},
   "outputs": [
    {
     "data": {
      "text/plain": [
       "(array([0, 1, 2, 3, 4, 5, 6, 7, 8, 9]),\n",
       " [Text(0, 0, 'Campus'),\n",
       "  Text(1, 0, 'Puma'),\n",
       "  Text(2, 0, 'REEBOK'),\n",
       "  Text(3, 0, 'Asian'),\n",
       "  Text(4, 0, 'Yonex'),\n",
       "  Text(5, 0, 'Sparx'),\n",
       "  Text(6, 0, 'Kraasa'),\n",
       "  Text(7, 0, 'Provogue'),\n",
       "  Text(8, 0, 'ADIDAS'),\n",
       "  Text(9, 0, 'Nike')])"
      ]
     },
     "execution_count": 32,
     "metadata": {},
     "output_type": "execute_result"
    },
    {
     "data": {
      "image/png": "[encoded data removed]",
      "text/plain": [
       "<Figure size 720x432 with 1 Axes>"
      ]
     },
     "metadata": {
      "needs_background": "light"
     },
     "output_type": "display_data"
    }
   ],
   "source": [
    "plt.figure(figsize=(10, 6))\n",
    "sns.barplot(x='Brand',y='No of Ratings',hue='Gender',data=df5);\n",
    "plt.xticks(rotation=90)"
   ]
  },
  {
   "cell_type": "code",
   "execution_count": 33,
   "metadata": {},
   "outputs": [
    {
     "data": {
      "text/plain": [
       "(array([0, 1, 2, 3, 4, 5, 6, 7, 8, 9]),\n",
       " [Text(0, 0, 'Campus'),\n",
       "  Text(1, 0, 'Puma'),\n",
       "  Text(2, 0, 'REEBOK'),\n",
       "  Text(3, 0, 'Asian'),\n",
       "  Text(4, 0, 'Yonex'),\n",
       "  Text(5, 0, 'Sparx'),\n",
       "  Text(6, 0, 'Kraasa'),\n",
       "  Text(7, 0, 'Provogue'),\n",
       "  Text(8, 0, 'ADIDAS'),\n",
       "  Text(9, 0, 'Nike')])"
      ]
     },
     "execution_count": 33,
     "metadata": {},
     "output_type": "execute_result"
    },
    {
     "data": {
      "image/png": "[encoded data removed]",
      "text/plain": [
       "<Figure size 720x432 with 1 Axes>"
      ]
     },
     "metadata": {
      "needs_background": "light"
     },
     "output_type": "display_data"
    }
   ],
   "source": [
    "plt.figure(figsize=(10, 6))\n",
    "sns.barplot(x='Brand',y='No of Reviews',hue='Gender',data=df5);\n",
    "plt.xticks(rotation=90)"
   ]
  },
  {
   "cell_type": "code",
   "execution_count": 34,
   "metadata": {},
   "outputs": [
    {
     "data": {
      "text/plain": [
       "(array([0, 1, 2, 3, 4, 5, 6, 7, 8, 9]),\n",
       " [Text(0, 0, 'Campus'),\n",
       "  Text(1, 0, 'Puma'),\n",
       "  Text(2, 0, 'REEBOK'),\n",
       "  Text(3, 0, 'Asian'),\n",
       "  Text(4, 0, 'Yonex'),\n",
       "  Text(5, 0, 'Sparx'),\n",
       "  Text(6, 0, 'Kraasa'),\n",
       "  Text(7, 0, 'Provogue'),\n",
       "  Text(8, 0, 'ADIDAS'),\n",
       "  Text(9, 0, 'Nike')])"
      ]
     },
     "execution_count": 34,
     "metadata": {},
     "output_type": "execute_result"
    },
    {
     "data": {
      "image/png": "[encoded data removed]",
      "text/plain": [
       "<Figure size 720x432 with 1 Axes>"
      ]
     },
     "metadata": {
      "needs_background": "light"
     },
     "output_type": "display_data"
    }
   ],
   "source": [
    "plt.figure(figsize=(10, 6))\n",
    "sns.barplot(x='Brand',y='Ratings',hue='Gender',data=df5);\n",
    "plt.xticks(rotation=90)"
   ]
  }
 ],
 "metadata": {
  "kernelspec": {
   "display_name": "Python 3",
   "language": "python",
   "name": "python3"
  },
  "language_info": {
   "codemirror_mode": {
    "name": "ipython",
    "version": 3
   },
   "file_extension": ".py",
   "mimetype": "text/x-python",
   "name": "python",
   "nbconvert_exporter": "python",
   "pygments_lexer": "ipython3",
   "version": "3.7.4"
  }
 },
 "nbformat": 4,
 "nbformat_minor": 2
}
